{
 "cells": [
  {
   "cell_type": "code",
   "execution_count": 290,
   "id": "dc438e4d-0566-4a23-8f61-08851a8986e6",
   "metadata": {},
   "outputs": [],
   "source": [
    "import pandas as pd\n",
    "import matplotlib.pyplot as plt\n",
    "from scipy import stats\n",
    "import numpy as np\n",
    "from sklearn.metrics import roc_curve, auc\n",
    "from tqdm import tqdm\n",
    "\n",
    "import os\n",
    "from utils import COLUMNS_NAME, cliff_delta, compute_features_deviations, compute_classification_performance\n",
    "\n",
    "import warnings\n",
    "warnings.simplefilter(\"ignore\")"
   ]
  },
  {
   "cell_type": "markdown",
   "id": "3621e5af-5fd0-4d1b-85fb-21837b16410d",
   "metadata": {},
   "source": [
    "## Paths"
   ]
  },
  {
   "cell_type": "code",
   "execution_count": 291,
   "id": "b04eb195-715b-4d13-863f-6ce0e0449eb4",
   "metadata": {},
   "outputs": [],
   "source": [
    "version = 'v1'"
   ]
  },
  {
   "cell_type": "code",
   "execution_count": 292,
   "id": "2ab45ef9-837c-4a12-934f-fd0601ec1aed",
   "metadata": {},
   "outputs": [],
   "source": [
    "datasets_path = '../../data/datasets/'\n",
    "dataset_name = 'test_dataset'\n",
    "dataset_path = datasets_path + dataset_name + '.csv'"
   ]
  },
  {
   "cell_type": "code",
   "execution_count": 293,
   "id": "30922c1c-00b4-4042-b755-2307d2454570",
   "metadata": {},
   "outputs": [],
   "source": [
    "# ----------------------------------------------------------------------------\n",
    "model_name = 'supervised_vae'\n",
    "\n",
    "bootstrap_dir = '../../outputs/' + model_name + '/bootstrap_ids/'\n",
    "model_dir = bootstrap_dir + version + '/' "
   ]
  },
  {
   "cell_type": "code",
   "execution_count": 294,
   "id": "c9a97983-29ec-4dce-a041-1a19852d8324",
   "metadata": {},
   "outputs": [],
   "source": [
    "normal_label = 0 #0: not graduate on time\n",
    "abnormal_label = 1 #1: graduate on time"
   ]
  },
  {
   "cell_type": "markdown",
   "id": "8ded4d2b-0dbd-46ec-8f57-883b68b194b3",
   "metadata": {},
   "source": [
    "## Load data"
   ]
  },
  {
   "cell_type": "code",
   "execution_count": 295,
   "id": "cf74633a-c03a-42a3-bbe1-aa1037a097c7",
   "metadata": {},
   "outputs": [
    {
     "data": {
      "text/html": [
       "<div>\n",
       "<style scoped>\n",
       "    .dataframe tbody tr th:only-of-type {\n",
       "        vertical-align: middle;\n",
       "    }\n",
       "\n",
       "    .dataframe tbody tr th {\n",
       "        vertical-align: top;\n",
       "    }\n",
       "\n",
       "    .dataframe thead th {\n",
       "        text-align: right;\n",
       "    }\n",
       "</style>\n",
       "<table border=\"1\" class=\"dataframe\">\n",
       "  <thead>\n",
       "    <tr style=\"text-align: right;\">\n",
       "      <th></th>\n",
       "      <th>IDX_STUDENT</th>\n",
       "      <th>COD_PROGRAMA</th>\n",
       "      <th>JORNADA</th>\n",
       "      <th>DURACION</th>\n",
       "      <th>PERIODO_INGRESO</th>\n",
       "      <th>SEXO</th>\n",
       "      <th>ESTADO_CIVIL</th>\n",
       "      <th>ESTRATO</th>\n",
       "      <th>RANGO_EDAD</th>\n",
       "      <th>CONDICION_EXCEPCION</th>\n",
       "      <th>...</th>\n",
       "      <th>RANGO_INGRESOS</th>\n",
       "      <th>RANGO_GASTOS</th>\n",
       "      <th>TIPO_VIVIENDA</th>\n",
       "      <th>PUNTAJE_ICFES</th>\n",
       "      <th>PCN</th>\n",
       "      <th>PLC</th>\n",
       "      <th>PMA</th>\n",
       "      <th>PSC</th>\n",
       "      <th>PIN</th>\n",
       "      <th>GRADUADO_A_TIEMPO</th>\n",
       "    </tr>\n",
       "  </thead>\n",
       "  <tbody>\n",
       "    <tr>\n",
       "      <th>343</th>\n",
       "      <td>STUDENT_1648</td>\n",
       "      <td>2710</td>\n",
       "      <td>2</td>\n",
       "      <td>7</td>\n",
       "      <td>7</td>\n",
       "      <td>1</td>\n",
       "      <td>1</td>\n",
       "      <td>2</td>\n",
       "      <td>3</td>\n",
       "      <td>1</td>\n",
       "      <td>...</td>\n",
       "      <td>4</td>\n",
       "      <td>4</td>\n",
       "      <td>2</td>\n",
       "      <td>223</td>\n",
       "      <td>45</td>\n",
       "      <td>48</td>\n",
       "      <td>51</td>\n",
       "      <td>46</td>\n",
       "      <td>33</td>\n",
       "      <td>1</td>\n",
       "    </tr>\n",
       "    <tr>\n",
       "      <th>344</th>\n",
       "      <td>STUDENT_1746</td>\n",
       "      <td>2710</td>\n",
       "      <td>2</td>\n",
       "      <td>7</td>\n",
       "      <td>5</td>\n",
       "      <td>1</td>\n",
       "      <td>1</td>\n",
       "      <td>3</td>\n",
       "      <td>2</td>\n",
       "      <td>1</td>\n",
       "      <td>...</td>\n",
       "      <td>2</td>\n",
       "      <td>2</td>\n",
       "      <td>2</td>\n",
       "      <td>277</td>\n",
       "      <td>60</td>\n",
       "      <td>47</td>\n",
       "      <td>60</td>\n",
       "      <td>55</td>\n",
       "      <td>55</td>\n",
       "      <td>1</td>\n",
       "    </tr>\n",
       "    <tr>\n",
       "      <th>345</th>\n",
       "      <td>STUDENT_1750</td>\n",
       "      <td>2710</td>\n",
       "      <td>2</td>\n",
       "      <td>7</td>\n",
       "      <td>5</td>\n",
       "      <td>1</td>\n",
       "      <td>1</td>\n",
       "      <td>1</td>\n",
       "      <td>4</td>\n",
       "      <td>1</td>\n",
       "      <td>...</td>\n",
       "      <td>2</td>\n",
       "      <td>2</td>\n",
       "      <td>4</td>\n",
       "      <td>298</td>\n",
       "      <td>57</td>\n",
       "      <td>59</td>\n",
       "      <td>64</td>\n",
       "      <td>69</td>\n",
       "      <td>48</td>\n",
       "      <td>1</td>\n",
       "    </tr>\n",
       "    <tr>\n",
       "      <th>346</th>\n",
       "      <td>STUDENT_1773</td>\n",
       "      <td>2710</td>\n",
       "      <td>2</td>\n",
       "      <td>7</td>\n",
       "      <td>5</td>\n",
       "      <td>1</td>\n",
       "      <td>1</td>\n",
       "      <td>3</td>\n",
       "      <td>2</td>\n",
       "      <td>1</td>\n",
       "      <td>...</td>\n",
       "      <td>2</td>\n",
       "      <td>2</td>\n",
       "      <td>2</td>\n",
       "      <td>242</td>\n",
       "      <td>56</td>\n",
       "      <td>46</td>\n",
       "      <td>49</td>\n",
       "      <td>41</td>\n",
       "      <td>50</td>\n",
       "      <td>1</td>\n",
       "    </tr>\n",
       "    <tr>\n",
       "      <th>347</th>\n",
       "      <td>STUDENT_1873</td>\n",
       "      <td>2710</td>\n",
       "      <td>1</td>\n",
       "      <td>6</td>\n",
       "      <td>2</td>\n",
       "      <td>1</td>\n",
       "      <td>1</td>\n",
       "      <td>2</td>\n",
       "      <td>3</td>\n",
       "      <td>1</td>\n",
       "      <td>...</td>\n",
       "      <td>2</td>\n",
       "      <td>2</td>\n",
       "      <td>2</td>\n",
       "      <td>236</td>\n",
       "      <td>48</td>\n",
       "      <td>53</td>\n",
       "      <td>60</td>\n",
       "      <td>44</td>\n",
       "      <td>31</td>\n",
       "      <td>1</td>\n",
       "    </tr>\n",
       "  </tbody>\n",
       "</table>\n",
       "<p>5 rows × 21 columns</p>\n",
       "</div>"
      ],
      "text/plain": [
       "      IDX_STUDENT  COD_PROGRAMA  JORNADA  DURACION  PERIODO_INGRESO  SEXO  \\\n",
       "343  STUDENT_1648          2710        2         7                7     1   \n",
       "344  STUDENT_1746          2710        2         7                5     1   \n",
       "345  STUDENT_1750          2710        2         7                5     1   \n",
       "346  STUDENT_1773          2710        2         7                5     1   \n",
       "347  STUDENT_1873          2710        1         6                2     1   \n",
       "\n",
       "     ESTADO_CIVIL  ESTRATO  RANGO_EDAD  CONDICION_EXCEPCION  ...  \\\n",
       "343             1        2           3                    1  ...   \n",
       "344             1        3           2                    1  ...   \n",
       "345             1        1           4                    1  ...   \n",
       "346             1        3           2                    1  ...   \n",
       "347             1        2           3                    1  ...   \n",
       "\n",
       "     RANGO_INGRESOS  RANGO_GASTOS  TIPO_VIVIENDA  PUNTAJE_ICFES  PCN  PLC  \\\n",
       "343               4             4              2            223   45   48   \n",
       "344               2             2              2            277   60   47   \n",
       "345               2             2              4            298   57   59   \n",
       "346               2             2              2            242   56   46   \n",
       "347               2             2              2            236   48   53   \n",
       "\n",
       "     PMA  PSC  PIN  GRADUADO_A_TIEMPO  \n",
       "343   51   46   33                  1  \n",
       "344   60   55   55                  1  \n",
       "345   64   69   48                  1  \n",
       "346   49   41   50                  1  \n",
       "347   60   44   31                  1  \n",
       "\n",
       "[5 rows x 21 columns]"
      ]
     },
     "execution_count": 295,
     "metadata": {},
     "output_type": "execute_result"
    }
   ],
   "source": [
    "#Loading data\n",
    "test_df = pd.read_csv(dataset_path)\n",
    "test_df.tail()"
   ]
  },
  {
   "cell_type": "markdown",
   "id": "1f8d9769-d28c-48d8-9d41-96705d3b2fc9",
   "metadata": {},
   "source": [
    "## Iter bootstrap"
   ]
  },
  {
   "cell_type": "code",
   "execution_count": 296,
   "id": "d7ac81fa-0b1f-47d2-bea7-3e50fbe8c88b",
   "metadata": {},
   "outputs": [],
   "source": [
    "n_bootstrap = 10"
   ]
  },
  {
   "cell_type": "code",
   "execution_count": 297,
   "id": "660b7c6f-04b5-4c6d-b43e-46d4ef0d9e21",
   "metadata": {},
   "outputs": [],
   "source": [
    "tpr_list = []\n",
    "auc_roc_list = []\n",
    "effect_size_list = []\n",
    "\n",
    "#file_name = '{}_vs_{}'.format(normal_label, disease_label)"
   ]
  },
  {
   "cell_type": "code",
   "execution_count": 298,
   "id": "3238d8db-068f-482b-aa28-490cd72ddd8e",
   "metadata": {},
   "outputs": [],
   "source": [
    "name_id_label = 'IDX_STUDENT'\n",
    "name_var_target = 'GRADUADO_A_TIEMPO'\n",
    "normal_label = 0 #0: not graduate on time\n",
    "abnormal_label = 1"
   ]
  },
  {
   "cell_type": "code",
   "execution_count": 299,
   "id": "9ac14b80-5631-4482-b09b-0af5fb6903e0",
   "metadata": {},
   "outputs": [
    {
     "name": "stderr",
     "output_type": "stream",
     "text": [
      "100%|██████████| 10/10 [00:04<00:00,  2.12it/s]\n"
     ]
    }
   ],
   "source": [
    "for i_bootstrap in tqdm(range(n_bootstrap)):\n",
    "    bootstrap_model_dir = model_dir + '{:03d}'.format(i_bootstrap)\n",
    "    \n",
    "    output_dataset_dir = bootstrap_model_dir + '/outputs/'\n",
    "     \n",
    "    # ----------------------------------------------------------------------------\n",
    "    \n",
    "    normalized_df = pd.read_csv(output_dataset_dir + 'normalized.csv', index_col=name_id_label)\n",
    "    reconstruction_df = pd.read_csv(output_dataset_dir + 'reconstruction.csv', index_col=name_id_label)\n",
    "    reconstruction_error_df = pd.read_csv(output_dataset_dir + 'reconstruction_error.csv', index_col=name_id_label)\n",
    "\n",
    "    # ----------------------------------------------------------------------------\n",
    "    # Compute effect size of the brain regions for the bootstrap iteration\n",
    "    diff_df = np.abs(normalized_df - reconstruction_df)\n",
    "    region_df = compute_features_deviations(diff_df, test_df, name_id_label, name_var_target, normal_label, abnormal_label)\n",
    "    effect_size_list.append(region_df['effect_size'].values)\n",
    "    region_df.to_csv(output_dataset_dir + 'regions_analysis.csv', index=False)\n",
    "    \n",
    "    # ----------------------------------------------------------------------------\n",
    "    # Compute AUC-ROC for the bootstrap iteration\n",
    "    roc_auc, tpr = compute_classification_performance(reconstruction_error_df, test_df, \n",
    "                                                      name_id_label, name_var_target, normal_label, abnormal_label)\n",
    "    auc_roc_list.append(roc_auc)\n",
    "    tpr_list.append(tpr)"
   ]
  },
  {
   "cell_type": "markdown",
   "id": "2af2bdc5-09da-43be-95e3-2d70de8af188",
   "metadata": {},
   "source": [
    "## Save results"
   ]
  },
  {
   "cell_type": "code",
   "execution_count": 300,
   "id": "41826b60-a7ee-4e65-bff4-b0853307103b",
   "metadata": {},
   "outputs": [],
   "source": [
    "comparison_dir = '../../outputs/' + model_name + '/comparison/' + version + '/' \n",
    "\n",
    "if not os.path.exists(comparison_dir):\n",
    "    os.mkdir(comparison_dir)"
   ]
  },
  {
   "cell_type": "code",
   "execution_count": 301,
   "id": "01787e68-9f6a-4a14-93db-d22e33915965",
   "metadata": {},
   "outputs": [],
   "source": [
    "# ----------------------------------------------------------------------------\n",
    "# Save regions effect sizes\n",
    "effect_size_df = pd.DataFrame(columns=COLUMNS_NAME, data=np.array(effect_size_list))\n",
    "effect_size_df.to_csv(comparison_dir  + 'effect_size.csv')"
   ]
  },
  {
   "cell_type": "code",
   "execution_count": 302,
   "id": "ce7a9393-0c6d-4236-9845-40174b884538",
   "metadata": {},
   "outputs": [],
   "source": [
    "# Save AUC bootstrap values\n",
    "auc_roc_list = np.array(auc_roc_list)\n",
    "auc_roc_df = pd.DataFrame(columns=['AUC-ROC'], data=auc_roc_list)\n",
    "auc_roc_df.to_csv(comparison_dir  + 'auc_rocs.csv', index=False)"
   ]
  },
  {
   "cell_type": "markdown",
   "id": "7a54e21d-a587-400d-8c00-3f26639e4e26",
   "metadata": {},
   "source": [
    "## Plot figures"
   ]
  },
  {
   "cell_type": "code",
   "execution_count": 303,
   "id": "a8070cc0-1a2e-4c5c-a96a-5043ef796a17",
   "metadata": {},
   "outputs": [],
   "source": [
    "# ----------------------------------------------------------------------------\n",
    "# Create Figure 3 of the paper\n",
    "tpr_list = np.array(tpr_list)\n",
    "mean_tprs = tpr_list.mean(axis=0)\n",
    "tprs_upper = np.percentile(tpr_list, 97.5, axis=0)\n",
    "tprs_lower = np.percentile(tpr_list, 2.5, axis=0)"
   ]
  },
  {
   "cell_type": "code",
   "execution_count": 304,
   "id": "f9d2fc5e-8548-4ce8-bcbf-eafab84861a6",
   "metadata": {},
   "outputs": [
    {
     "data": {
      "image/png": "[encoded data removed]",
      "text/plain": [
       "<Figure size 640x480 with 1 Axes>"
      ]
     },
     "metadata": {},
     "output_type": "display_data"
    }
   ],
   "source": [
    "plt.plot(np.linspace(0, 1, len(COLUMNS_NAME)),\n",
    "             mean_tprs,\n",
    "             'b', lw=2,\n",
    "             label='ROC curve (AUC = {:0.2f}; [{:0.2f}, {:0.2f}])'.format(np.mean(auc_roc_list),\n",
    "                                                                                  np.percentile(auc_roc_list, 2.5),\n",
    "                                                                                  np.percentile(auc_roc_list, 97.5)))\n",
    "\n",
    "plt.fill_between(np.linspace(0, 1, len(COLUMNS_NAME)),\n",
    "                     tprs_lower, tprs_upper,\n",
    "                     color='grey', alpha=0.2)\n",
    "\n",
    "plt.plot([0, 1], [0, 1], 'r--')\n",
    "plt.xlim([0, 1])\n",
    "plt.ylim([0, 1.05])\n",
    "plt.ylabel('True Positive Rate')\n",
    "plt.xlabel('False Positive Rate')\n",
    "plt.legend(loc='lower right')\n",
    "plt.savefig(comparison_dir  + 'AUC-ROC.png', format='png')\n",
    "#plt.close()\n",
    "#plt.clf()"
   ]
  },
  {
   "cell_type": "code",
   "execution_count": 305,
   "id": "f14f9335-acc3-4155-905f-32101ea7eae3",
   "metadata": {},
   "outputs": [
    {
     "data": {
      "text/plain": [
       "<Figure size 640x480 with 0 Axes>"
      ]
     },
     "metadata": {},
     "output_type": "display_data"
    }
   ],
   "source": [
    " # --------------------------------------------------------------------------------------------\n",
    "# Create figure for supplementary materials\n",
    "effect_size_df = effect_size_df.reindex(effect_size_df.mean().sort_values().index, axis=1)\n",
    "\n",
    "plt.figure(figsize=(16, 20))\n",
    "plt.hlines(range(len(COLUMNS_NAME)),\n",
    "               np.percentile(effect_size_df, 2.5, axis=0),\n",
    "               np.percentile(effect_size_df, 97.5, axis=0))\n",
    "\n",
    "plt.plot(effect_size_df.mean().values, range(len(COLUMNS_NAME)), 's', color='k')\n",
    "plt.axvline(0, ls='--')\n",
    "plt.yticks(np.arange(len(COLUMNS_NAME)), effect_size_df.columns)\n",
    "plt.xlabel('Effect size')\n",
    "plt.ylabel('Features')\n",
    "plt.tight_layout()\n",
    "plt.savefig(comparison_dir  + 'features.png', format='png')\n",
    "plt.close()\n",
    "plt.clf()"
   ]
  },
  {
   "cell_type": "code",
   "execution_count": 306,
   "id": "a868bd24-8689-4e4a-b3d6-8eed9d98e053",
   "metadata": {},
   "outputs": [
    {
     "data": {
      "image/png": "[encoded data removed]",
      "text/plain": [
       "<Figure size 640x480 with 1 Axes>"
      ]
     },
     "metadata": {},
     "output_type": "display_data"
    }
   ],
   "source": [
    " # --------------------------------------------------------------------------------------------\n",
    "effect_size_sig_df = effect_size_df.reindex(effect_size_df.mean().sort_values().index, axis=1)\n",
    "lower_bound = np.percentile(effect_size_sig_df, 2.5, axis=0)\n",
    "higher_bound = np.percentile(effect_size_sig_df, 97.5, axis=0)\n",
    "\n",
    "for i, column in enumerate(effect_size_sig_df.columns):\n",
    "    if (lower_bound[i] < 0) & (higher_bound[i] > 0):\n",
    "        effect_size_sig_df = effect_size_sig_df.drop(columns=column)\n",
    "\n",
    "n_regions = len(effect_size_sig_df.columns)\n",
    "\n",
    "plt.figure()\n",
    "plt.hlines(range(n_regions),\n",
    "            np.percentile(effect_size_sig_df, 2.5, axis=0),\n",
    "            np.percentile(effect_size_sig_df, 97.5, axis=0))\n",
    "\n",
    "plt.plot(effect_size_sig_df.mean().values, range(n_regions), 's', color='k')\n",
    "plt.axvline(0, ls='--')\n",
    "plt.yticks(np.arange(n_regions), effect_size_sig_df.columns)\n",
    "plt.xlabel('Effect size')\n",
    "plt.ylabel('Features')\n",
    "plt.tight_layout()\n",
    "plt.savefig(comparison_dir +'significant_features.png', format='png')\n",
    "#plt.close()\n",
    "#plt.clf()"
   ]
  },
  {
   "cell_type": "code",
   "execution_count": null,
   "id": "8230f02c-f551-4647-8ebb-be5046549ab5",
   "metadata": {},
   "outputs": [],
   "source": []
  }
 ],
 "metadata": {
  "kernelspec": {
   "display_name": "Python 3 (ipykernel)",
   "language": "python",
   "name": "python3"
  },
  "language_info": {
   "codemirror_mode": {
    "name": "ipython",
    "version": 3
   },
   "file_extension": ".py",
   "mimetype": "text/x-python",
   "name": "python",
   "nbconvert_exporter": "python",
   "pygments_lexer": "ipython3",
   "version": "3.9.13"
  }
 },
 "nbformat": 4,
 "nbformat_minor": 5
}
