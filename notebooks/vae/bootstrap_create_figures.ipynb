{
 "cells": [
  {
   "cell_type": "code",
   "execution_count": 46,
   "id": "a1e0a309-0dba-4aac-b790-aaa5571b15f6",
   "metadata": {},
   "outputs": [],
   "source": [
    "import pandas as pd\n",
    "import matplotlib.pyplot as plt\n",
    "import numpy as np\n",
    "from tqdm import tqdm\n",
    "\n",
    "import os"
   ]
  },
  {
   "cell_type": "code",
   "execution_count": 47,
   "id": "5ef3e95c-403d-4a76-a571-3a34ef1dd984",
   "metadata": {},
   "outputs": [],
   "source": [
    "version = 'v1'"
   ]
  },
  {
   "cell_type": "code",
   "execution_count": 48,
   "id": "087c88a3-4c60-4f70-86c2-4da7ad7431c1",
   "metadata": {},
   "outputs": [],
   "source": [
    "# ----------------------------------------------------------------------------\n",
    "model_name = 'supervised_vae'\n",
    "outputs_dir = '../../data/outputs/'\n",
    "\n",
    "bootstrap_dir = '../../outputs/' + model_name + '/bootstrap_ids/'\n",
    "model_dir = bootstrap_dir + version + '/' "
   ]
  },
  {
   "cell_type": "code",
   "execution_count": 49,
   "id": "644b6eae-ddda-4e45-a6c2-a5ec105a4b3d",
   "metadata": {},
   "outputs": [],
   "source": [
    "datasets_path = '../../data/datasets/'\n",
    "dataset_name = 'test_dataset'\n",
    "dataset_path = datasets_path + dataset_name + '.csv'"
   ]
  },
  {
   "cell_type": "markdown",
   "id": "06519175-eb1e-4dcf-9468-dcd7169dfbae",
   "metadata": {},
   "source": [
    "## Load data"
   ]
  },
  {
   "cell_type": "code",
   "execution_count": 50,
   "id": "153fb7f8-ee68-4c66-8173-d0717801ac3f",
   "metadata": {},
   "outputs": [
    {
     "data": {
      "text/html": [
       "<div>\n",
       "<style scoped>\n",
       "    .dataframe tbody tr th:only-of-type {\n",
       "        vertical-align: middle;\n",
       "    }\n",
       "\n",
       "    .dataframe tbody tr th {\n",
       "        vertical-align: top;\n",
       "    }\n",
       "\n",
       "    .dataframe thead th {\n",
       "        text-align: right;\n",
       "    }\n",
       "</style>\n",
       "<table border=\"1\" class=\"dataframe\">\n",
       "  <thead>\n",
       "    <tr style=\"text-align: right;\">\n",
       "      <th></th>\n",
       "      <th>IDX_STUDENT</th>\n",
       "      <th>COD_PROGRAMA</th>\n",
       "      <th>JORNADA</th>\n",
       "      <th>DURACION</th>\n",
       "      <th>PERIODO_INGRESO</th>\n",
       "      <th>SEXO</th>\n",
       "      <th>ESTADO_CIVIL</th>\n",
       "      <th>ESTRATO</th>\n",
       "      <th>RANGO_EDAD</th>\n",
       "      <th>CONDICION_EXCEPCION</th>\n",
       "      <th>...</th>\n",
       "      <th>RANGO_INGRESOS</th>\n",
       "      <th>RANGO_GASTOS</th>\n",
       "      <th>TIPO_VIVIENDA</th>\n",
       "      <th>PUNTAJE_ICFES</th>\n",
       "      <th>PCN</th>\n",
       "      <th>PLC</th>\n",
       "      <th>PMA</th>\n",
       "      <th>PSC</th>\n",
       "      <th>PIN</th>\n",
       "      <th>GRADUADO_A_TIEMPO</th>\n",
       "    </tr>\n",
       "  </thead>\n",
       "  <tbody>\n",
       "    <tr>\n",
       "      <th>343</th>\n",
       "      <td>STUDENT_1648</td>\n",
       "      <td>2710</td>\n",
       "      <td>2</td>\n",
       "      <td>7</td>\n",
       "      <td>7</td>\n",
       "      <td>1</td>\n",
       "      <td>1</td>\n",
       "      <td>2</td>\n",
       "      <td>3</td>\n",
       "      <td>1</td>\n",
       "      <td>...</td>\n",
       "      <td>4</td>\n",
       "      <td>4</td>\n",
       "      <td>2</td>\n",
       "      <td>223</td>\n",
       "      <td>45</td>\n",
       "      <td>48</td>\n",
       "      <td>51</td>\n",
       "      <td>46</td>\n",
       "      <td>33</td>\n",
       "      <td>1</td>\n",
       "    </tr>\n",
       "    <tr>\n",
       "      <th>344</th>\n",
       "      <td>STUDENT_1746</td>\n",
       "      <td>2710</td>\n",
       "      <td>2</td>\n",
       "      <td>7</td>\n",
       "      <td>5</td>\n",
       "      <td>1</td>\n",
       "      <td>1</td>\n",
       "      <td>3</td>\n",
       "      <td>2</td>\n",
       "      <td>1</td>\n",
       "      <td>...</td>\n",
       "      <td>2</td>\n",
       "      <td>2</td>\n",
       "      <td>2</td>\n",
       "      <td>277</td>\n",
       "      <td>60</td>\n",
       "      <td>47</td>\n",
       "      <td>60</td>\n",
       "      <td>55</td>\n",
       "      <td>55</td>\n",
       "      <td>1</td>\n",
       "    </tr>\n",
       "    <tr>\n",
       "      <th>345</th>\n",
       "      <td>STUDENT_1750</td>\n",
       "      <td>2710</td>\n",
       "      <td>2</td>\n",
       "      <td>7</td>\n",
       "      <td>5</td>\n",
       "      <td>1</td>\n",
       "      <td>1</td>\n",
       "      <td>1</td>\n",
       "      <td>4</td>\n",
       "      <td>1</td>\n",
       "      <td>...</td>\n",
       "      <td>2</td>\n",
       "      <td>2</td>\n",
       "      <td>4</td>\n",
       "      <td>298</td>\n",
       "      <td>57</td>\n",
       "      <td>59</td>\n",
       "      <td>64</td>\n",
       "      <td>69</td>\n",
       "      <td>48</td>\n",
       "      <td>1</td>\n",
       "    </tr>\n",
       "    <tr>\n",
       "      <th>346</th>\n",
       "      <td>STUDENT_1773</td>\n",
       "      <td>2710</td>\n",
       "      <td>2</td>\n",
       "      <td>7</td>\n",
       "      <td>5</td>\n",
       "      <td>1</td>\n",
       "      <td>1</td>\n",
       "      <td>3</td>\n",
       "      <td>2</td>\n",
       "      <td>1</td>\n",
       "      <td>...</td>\n",
       "      <td>2</td>\n",
       "      <td>2</td>\n",
       "      <td>2</td>\n",
       "      <td>242</td>\n",
       "      <td>56</td>\n",
       "      <td>46</td>\n",
       "      <td>49</td>\n",
       "      <td>41</td>\n",
       "      <td>50</td>\n",
       "      <td>1</td>\n",
       "    </tr>\n",
       "    <tr>\n",
       "      <th>347</th>\n",
       "      <td>STUDENT_1873</td>\n",
       "      <td>2710</td>\n",
       "      <td>1</td>\n",
       "      <td>6</td>\n",
       "      <td>2</td>\n",
       "      <td>1</td>\n",
       "      <td>1</td>\n",
       "      <td>2</td>\n",
       "      <td>3</td>\n",
       "      <td>1</td>\n",
       "      <td>...</td>\n",
       "      <td>2</td>\n",
       "      <td>2</td>\n",
       "      <td>2</td>\n",
       "      <td>236</td>\n",
       "      <td>48</td>\n",
       "      <td>53</td>\n",
       "      <td>60</td>\n",
       "      <td>44</td>\n",
       "      <td>31</td>\n",
       "      <td>1</td>\n",
       "    </tr>\n",
       "  </tbody>\n",
       "</table>\n",
       "<p>5 rows × 21 columns</p>\n",
       "</div>"
      ],
      "text/plain": [
       "      IDX_STUDENT  COD_PROGRAMA  JORNADA  DURACION  PERIODO_INGRESO  SEXO  \\\n",
       "343  STUDENT_1648          2710        2         7                7     1   \n",
       "344  STUDENT_1746          2710        2         7                5     1   \n",
       "345  STUDENT_1750          2710        2         7                5     1   \n",
       "346  STUDENT_1773          2710        2         7                5     1   \n",
       "347  STUDENT_1873          2710        1         6                2     1   \n",
       "\n",
       "     ESTADO_CIVIL  ESTRATO  RANGO_EDAD  CONDICION_EXCEPCION  ...  \\\n",
       "343             1        2           3                    1  ...   \n",
       "344             1        3           2                    1  ...   \n",
       "345             1        1           4                    1  ...   \n",
       "346             1        3           2                    1  ...   \n",
       "347             1        2           3                    1  ...   \n",
       "\n",
       "     RANGO_INGRESOS  RANGO_GASTOS  TIPO_VIVIENDA  PUNTAJE_ICFES  PCN  PLC  \\\n",
       "343               4             4              2            223   45   48   \n",
       "344               2             2              2            277   60   47   \n",
       "345               2             2              4            298   57   59   \n",
       "346               2             2              2            242   56   46   \n",
       "347               2             2              2            236   48   53   \n",
       "\n",
       "     PMA  PSC  PIN  GRADUADO_A_TIEMPO  \n",
       "343   51   46   33                  1  \n",
       "344   60   55   55                  1  \n",
       "345   64   69   48                  1  \n",
       "346   49   41   50                  1  \n",
       "347   60   44   31                  1  \n",
       "\n",
       "[5 rows x 21 columns]"
      ]
     },
     "execution_count": 50,
     "metadata": {},
     "output_type": "execute_result"
    }
   ],
   "source": [
    "#Loading data\n",
    "test_df = pd.read_csv(dataset_path)\n",
    "test_df.tail()"
   ]
  },
  {
   "cell_type": "markdown",
   "id": "6b7abad8-da75-489d-910d-be766fa8e470",
   "metadata": {
    "tags": []
   },
   "source": [
    "## Bootstrapping"
   ]
  },
  {
   "cell_type": "code",
   "execution_count": 51,
   "id": "b16b3a5c-04fb-4302-b8c5-ece49c6f4082",
   "metadata": {},
   "outputs": [],
   "source": [
    "name_id_label = 'IDX_STUDENT'\n",
    "name_var_target = 'GRADUADO_A_TIEMPO'\n",
    "normal_label = 0 #0: not graduate on time\n",
    "abnormal_label = 1"
   ]
  },
  {
   "cell_type": "code",
   "execution_count": 52,
   "id": "f463e69a-26be-4021-9f04-2a4df5870eed",
   "metadata": {},
   "outputs": [],
   "source": [
    "n_bootstrap = 10"
   ]
  },
  {
   "cell_type": "code",
   "execution_count": 53,
   "id": "60bf3184-e9e7-43d3-b815-0b2ee9fab5fb",
   "metadata": {},
   "outputs": [],
   "source": [
    "mean_list = []"
   ]
  },
  {
   "cell_type": "code",
   "execution_count": 54,
   "id": "cec7c1a6-c64e-42fa-ba70-f288652bb170",
   "metadata": {
    "tags": []
   },
   "outputs": [
    {
     "name": "stderr",
     "output_type": "stream",
     "text": [
      "100%|██████████| 10/10 [00:00<00:00, 86.99it/s]\n"
     ]
    }
   ],
   "source": [
    "for i_bootstrap in tqdm(range(n_bootstrap)):\n",
    "    bootstrap_model_dir = model_dir + '{:03d}'.format(i_bootstrap)\n",
    "    \n",
    "    output_dataset_dir = bootstrap_model_dir + '/outputs/'\n",
    "    \n",
    "    reconstruction_error_df = pd.read_csv(output_dataset_dir + 'reconstruction_error.csv')\n",
    "    \n",
    "    error_normal = reconstruction_error_df.loc[test_df[name_var_target] == normal_label]['Reconstruction error']\n",
    "    error_abnormal = reconstruction_error_df.loc[test_df[name_var_target] == abnormal_label]['Reconstruction error']\n",
    "    \n",
    "    mean_list.append([error_normal.mean(), error_abnormal.mean()])"
   ]
  },
  {
   "cell_type": "code",
   "execution_count": 55,
   "id": "6368e107-f49a-4afc-a1eb-ff9a3b3a7f7c",
   "metadata": {},
   "outputs": [],
   "source": [
    "output_figs_dir = '../../outputs/' + model_name + '/deviations/' + version + '/' \n",
    "\n",
    "if not os.path.exists(output_figs_dir):\n",
    "        os.mkdir(output_figs_dir)"
   ]
  },
  {
   "cell_type": "code",
   "execution_count": 56,
   "id": "634f1cba-50bd-45a4-8a95-c0bab84ea8bb",
   "metadata": {},
   "outputs": [
    {
     "data": {
      "text/plain": [
       "[<matplotlib.lines.Line2D at 0x200b110d880>]"
      ]
     },
     "execution_count": 56,
     "metadata": {},
     "output_type": "execute_result"
    },
    {
     "data": {
      "image/png": "[encoded data removed]",
      "text/plain": [
       "<Figure size 640x480 with 1 Axes>"
      ]
     },
     "metadata": {},
     "output_type": "display_data"
    }
   ],
   "source": [
    "mean_list = np.array(mean_list)\n",
    "len_mean_list = 2\n",
    "\n",
    "plt.hlines(range(len_mean_list),\n",
    "            np.percentile(mean_list, 2.5, axis=0),\n",
    "            np.percentile(mean_list, 97.5, axis=0))\n",
    "plt.plot(np.mean(mean_list, axis=0), range(len_mean_list), 's', color='k')\n",
    "#plt.savefig(output_figs_dir + 'ADNI.png', format='png')\n",
    "#plt.close()\n",
    "#plt.clf()"
   ]
  },
  {
   "cell_type": "code",
   "execution_count": 57,
   "id": "02733c08-26c8-4214-a219-8573c56d1a3b",
   "metadata": {},
   "outputs": [
    {
     "data": {
      "image/png": "[encoded data removed]",
      "text/plain": [
       "<Figure size 640x480 with 1 Axes>"
      ]
     },
     "metadata": {},
     "output_type": "display_data"
    }
   ],
   "source": [
    "import matplotlib.ticker as ticker\n",
    "\n",
    "plt.hlines(range(len_mean_list),\n",
    "            np.percentile(mean_list, 2.5, axis=0),\n",
    "            np.percentile(mean_list, 97.5, axis=0))\n",
    "\n",
    "def formatter(y, pos):\n",
    "    lbl = ''\n",
    "    if y == 0:\n",
    "        lbl = 'NO GRADUADO A TIEMPO'\n",
    "    elif y >= 1:\n",
    "        lbl =  'GRADUADO A TIEMPO'\n",
    "        \n",
    "    return lbl\n",
    "\n",
    "plt.gca().yaxis.set_major_formatter(ticker.FuncFormatter(formatter))\n",
    "plt.plot(np.mean(mean_list, axis=0), range(len_mean_list), 's', color='k')\n",
    "plt.xlabel(\"Deviation metric\")\n",
    "plt.savefig(output_figs_dir + 'deviations.png', format='png')"
   ]
  },
  {
   "cell_type": "code",
   "execution_count": 58,
   "id": "446723ad-dc08-4199-b2c5-50985bb331ea",
   "metadata": {},
   "outputs": [],
   "source": [
    "results = np.array([\n",
    "    ['Mean', np.mean(mean_list, axis=0)[0], np.mean(mean_list, axis=0)[1]],\n",
    "    ['Lower', np.percentile(mean_list, 2.5, axis=0)[0],  np.percentile(mean_list, 2.5, axis=0)[1]],\n",
    "    ['Upper', np.percentile(mean_list, 97.5, axis=0)[0], np.percentile(mean_list, 97.5, axis=0)[1]]\n",
    "])\n",
    "\n",
    "results_df = pd.DataFrame(results, columns=['Measure', 'NO GRADUADO A TIEMPO', 'GRADADO A TIEMPO'])"
   ]
  },
  {
   "cell_type": "code",
   "execution_count": 59,
   "id": "a8efd07d-14e3-494b-b7ed-79d04ca744ef",
   "metadata": {},
   "outputs": [
    {
     "data": {
      "text/html": [
       "<div>\n",
       "<style scoped>\n",
       "    .dataframe tbody tr th:only-of-type {\n",
       "        vertical-align: middle;\n",
       "    }\n",
       "\n",
       "    .dataframe tbody tr th {\n",
       "        vertical-align: top;\n",
       "    }\n",
       "\n",
       "    .dataframe thead th {\n",
       "        text-align: right;\n",
       "    }\n",
       "</style>\n",
       "<table border=\"1\" class=\"dataframe\">\n",
       "  <thead>\n",
       "    <tr style=\"text-align: right;\">\n",
       "      <th></th>\n",
       "      <th>Measure</th>\n",
       "      <th>NO GRADUADO A TIEMPO</th>\n",
       "      <th>GRADADO A TIEMPO</th>\n",
       "    </tr>\n",
       "  </thead>\n",
       "  <tbody>\n",
       "    <tr>\n",
       "      <th>0</th>\n",
       "      <td>Mean</td>\n",
       "      <td>0.003307237537477528</td>\n",
       "      <td>0.0034200203437058825</td>\n",
       "    </tr>\n",
       "    <tr>\n",
       "      <th>1</th>\n",
       "      <td>Lower</td>\n",
       "      <td>0.002898523364030899</td>\n",
       "      <td>0.0029885934546235293</td>\n",
       "    </tr>\n",
       "    <tr>\n",
       "      <th>2</th>\n",
       "      <td>Upper</td>\n",
       "      <td>0.004092157077247191</td>\n",
       "      <td>0.003916516482433824</td>\n",
       "    </tr>\n",
       "  </tbody>\n",
       "</table>\n",
       "</div>"
      ],
      "text/plain": [
       "  Measure  NO GRADUADO A TIEMPO       GRADADO A TIEMPO\n",
       "0    Mean  0.003307237537477528  0.0034200203437058825\n",
       "1   Lower  0.002898523364030899  0.0029885934546235293\n",
       "2   Upper  0.004092157077247191   0.003916516482433824"
      ]
     },
     "execution_count": 59,
     "metadata": {},
     "output_type": "execute_result"
    }
   ],
   "source": [
    "results_df"
   ]
  },
  {
   "cell_type": "code",
   "execution_count": 60,
   "id": "43903a56-aca3-4fe9-8e29-d933a086a756",
   "metadata": {},
   "outputs": [],
   "source": [
    "results_df.to_csv(output_figs_dir +  'deviations.csv', index=False)"
   ]
  }
 ],
 "metadata": {
  "kernelspec": {
   "display_name": "Python 3 (ipykernel)",
   "language": "python",
   "name": "python3"
  },
  "language_info": {
   "codemirror_mode": {
    "name": "ipython",
    "version": 3
   },
   "file_extension": ".py",
   "mimetype": "text/x-python",
   "name": "python",
   "nbconvert_exporter": "python",
   "pygments_lexer": "ipython3",
   "version": "3.9.12"
  }
 },
 "nbformat": 4,
 "nbformat_minor": 5
}
