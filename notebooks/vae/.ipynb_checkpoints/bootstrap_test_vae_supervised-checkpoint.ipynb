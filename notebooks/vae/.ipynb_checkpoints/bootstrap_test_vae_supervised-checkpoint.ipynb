{
 "cells": [
  {
   "cell_type": "code",
   "execution_count": 168,
   "id": "9ed9a04f-3a4f-4744-b0a9-cbe9c914fa9f",
   "metadata": {},
   "outputs": [],
   "source": [
    "import joblib\n",
    "import numpy as np\n",
    "import pandas as pd\n",
    "import tensorflow as tf\n",
    "from tensorflow import keras\n",
    "from tqdm import tqdm\n",
    "\n",
    "import os\n",
    "\n",
    "from utils import COLUMNS_NAME"
   ]
  },
  {
   "cell_type": "markdown",
   "id": "9bec6964-1a76-46eb-beae-cbdc443feea3",
   "metadata": {
    "tags": []
   },
   "source": [
    "## Paths"
   ]
  },
  {
   "cell_type": "code",
   "execution_count": 169,
   "id": "f161fb47-6d5d-4a68-9503-146474e07a36",
   "metadata": {},
   "outputs": [],
   "source": [
    "version = 'v1'"
   ]
  },
  {
   "cell_type": "code",
   "execution_count": 170,
   "id": "49773f11-98ce-4244-938c-54ff987e1c62",
   "metadata": {},
   "outputs": [],
   "source": [
    "#Loading data\n",
    "datasets_dir = '../../data/datasets/'"
   ]
  },
  {
   "cell_type": "code",
   "execution_count": 171,
   "id": "b6863b8e-8f93-4986-92a2-79b0b07e2116",
   "metadata": {},
   "outputs": [],
   "source": [
    "    dataset_name = 'test_dataset'\n",
    "dataset_path = '../../data/datasets/' + dataset_name + '.csv'"
   ]
  },
  {
   "cell_type": "code",
   "execution_count": 172,
   "id": "e578f60b-559c-45da-a805-ce4cb3b930a4",
   "metadata": {},
   "outputs": [],
   "source": [
    "# ----------------------------------------------------------------------------"
   ]
  },
  {
   "cell_type": "code",
   "execution_count": 173,
   "id": "2ed3d92b-f9dd-4fb1-94aa-8a36017ea5af",
   "metadata": {},
   "outputs": [],
   "source": [
    "model_name = 'supervised_vae'\n",
    "\n",
    "bootstrap_dir = '../../outputs/' + model_name + '/bootstrap_ids/'\n",
    "model_dir = bootstrap_dir + version + '/' "
   ]
  },
  {
   "cell_type": "markdown",
   "id": "68269aaf-e5d0-47e5-bc23-63fdbf7d7ec9",
   "metadata": {},
   "source": [
    "## Load dataset"
   ]
  },
  {
   "cell_type": "code",
   "execution_count": 174,
   "id": "cc354df4-ac0a-415f-b9df-3694f185fae7",
   "metadata": {},
   "outputs": [
    {
     "data": {
      "text/html": [
       "<div>\n",
       "<style scoped>\n",
       "    .dataframe tbody tr th:only-of-type {\n",
       "        vertical-align: middle;\n",
       "    }\n",
       "\n",
       "    .dataframe tbody tr th {\n",
       "        vertical-align: top;\n",
       "    }\n",
       "\n",
       "    .dataframe thead th {\n",
       "        text-align: right;\n",
       "    }\n",
       "</style>\n",
       "<table border=\"1\" class=\"dataframe\">\n",
       "  <thead>\n",
       "    <tr style=\"text-align: right;\">\n",
       "      <th></th>\n",
       "      <th>IDX_STUDENT</th>\n",
       "      <th>COD_PROGRAMA</th>\n",
       "      <th>JORNADA</th>\n",
       "      <th>DURACION</th>\n",
       "      <th>PERIODO_INGRESO</th>\n",
       "      <th>SEXO</th>\n",
       "      <th>ESTADO_CIVIL</th>\n",
       "      <th>ESTRATO</th>\n",
       "      <th>RANGO_EDAD</th>\n",
       "      <th>CONDICION_EXCEPCION</th>\n",
       "      <th>...</th>\n",
       "      <th>RANGO_INGRESOS</th>\n",
       "      <th>RANGO_GASTOS</th>\n",
       "      <th>TIPO_VIVIENDA</th>\n",
       "      <th>PUNTAJE_ICFES</th>\n",
       "      <th>PCN</th>\n",
       "      <th>PLC</th>\n",
       "      <th>PMA</th>\n",
       "      <th>PSC</th>\n",
       "      <th>PIN</th>\n",
       "      <th>GRADUADO_A_TIEMPO</th>\n",
       "    </tr>\n",
       "  </thead>\n",
       "  <tbody>\n",
       "    <tr>\n",
       "      <th>0</th>\n",
       "      <td>STUDENT_1093</td>\n",
       "      <td>2711</td>\n",
       "      <td>1</td>\n",
       "      <td>6</td>\n",
       "      <td>15</td>\n",
       "      <td>0</td>\n",
       "      <td>1</td>\n",
       "      <td>2</td>\n",
       "      <td>3</td>\n",
       "      <td>1</td>\n",
       "      <td>...</td>\n",
       "      <td>2</td>\n",
       "      <td>2</td>\n",
       "      <td>1</td>\n",
       "      <td>262</td>\n",
       "      <td>55</td>\n",
       "      <td>54</td>\n",
       "      <td>45</td>\n",
       "      <td>58</td>\n",
       "      <td>50</td>\n",
       "      <td>0</td>\n",
       "    </tr>\n",
       "    <tr>\n",
       "      <th>1</th>\n",
       "      <td>STUDENT_628</td>\n",
       "      <td>2131</td>\n",
       "      <td>1</td>\n",
       "      <td>6</td>\n",
       "      <td>14</td>\n",
       "      <td>1</td>\n",
       "      <td>1</td>\n",
       "      <td>1</td>\n",
       "      <td>4</td>\n",
       "      <td>1</td>\n",
       "      <td>...</td>\n",
       "      <td>1</td>\n",
       "      <td>1</td>\n",
       "      <td>2</td>\n",
       "      <td>290</td>\n",
       "      <td>66</td>\n",
       "      <td>58</td>\n",
       "      <td>59</td>\n",
       "      <td>57</td>\n",
       "      <td>50</td>\n",
       "      <td>0</td>\n",
       "    </tr>\n",
       "    <tr>\n",
       "      <th>2</th>\n",
       "      <td>STUDENT_1267</td>\n",
       "      <td>2131</td>\n",
       "      <td>1</td>\n",
       "      <td>6</td>\n",
       "      <td>15</td>\n",
       "      <td>0</td>\n",
       "      <td>1</td>\n",
       "      <td>2</td>\n",
       "      <td>2</td>\n",
       "      <td>1</td>\n",
       "      <td>...</td>\n",
       "      <td>3</td>\n",
       "      <td>3</td>\n",
       "      <td>1</td>\n",
       "      <td>304</td>\n",
       "      <td>67</td>\n",
       "      <td>55</td>\n",
       "      <td>63</td>\n",
       "      <td>55</td>\n",
       "      <td>64</td>\n",
       "      <td>0</td>\n",
       "    </tr>\n",
       "    <tr>\n",
       "      <th>3</th>\n",
       "      <td>STUDENT_288</td>\n",
       "      <td>2721</td>\n",
       "      <td>2</td>\n",
       "      <td>7</td>\n",
       "      <td>13</td>\n",
       "      <td>1</td>\n",
       "      <td>1</td>\n",
       "      <td>2</td>\n",
       "      <td>4</td>\n",
       "      <td>1</td>\n",
       "      <td>...</td>\n",
       "      <td>4</td>\n",
       "      <td>4</td>\n",
       "      <td>1</td>\n",
       "      <td>173</td>\n",
       "      <td>55</td>\n",
       "      <td>49</td>\n",
       "      <td>69</td>\n",
       "      <td>0</td>\n",
       "      <td>0</td>\n",
       "      <td>0</td>\n",
       "    </tr>\n",
       "    <tr>\n",
       "      <th>4</th>\n",
       "      <td>STUDENT_437</td>\n",
       "      <td>2711</td>\n",
       "      <td>2</td>\n",
       "      <td>7</td>\n",
       "      <td>9</td>\n",
       "      <td>1</td>\n",
       "      <td>2</td>\n",
       "      <td>2</td>\n",
       "      <td>4</td>\n",
       "      <td>1</td>\n",
       "      <td>...</td>\n",
       "      <td>2</td>\n",
       "      <td>2</td>\n",
       "      <td>1</td>\n",
       "      <td>262</td>\n",
       "      <td>59</td>\n",
       "      <td>55</td>\n",
       "      <td>50</td>\n",
       "      <td>46</td>\n",
       "      <td>51</td>\n",
       "      <td>0</td>\n",
       "    </tr>\n",
       "  </tbody>\n",
       "</table>\n",
       "<p>5 rows × 21 columns</p>\n",
       "</div>"
      ],
      "text/plain": [
       "    IDX_STUDENT  COD_PROGRAMA  JORNADA  DURACION  PERIODO_INGRESO  SEXO  \\\n",
       "0  STUDENT_1093          2711        1         6               15     0   \n",
       "1   STUDENT_628          2131        1         6               14     1   \n",
       "2  STUDENT_1267          2131        1         6               15     0   \n",
       "3   STUDENT_288          2721        2         7               13     1   \n",
       "4   STUDENT_437          2711        2         7                9     1   \n",
       "\n",
       "   ESTADO_CIVIL  ESTRATO  RANGO_EDAD  CONDICION_EXCEPCION  ...  \\\n",
       "0             1        2           3                    1  ...   \n",
       "1             1        1           4                    1  ...   \n",
       "2             1        2           2                    1  ...   \n",
       "3             1        2           4                    1  ...   \n",
       "4             2        2           4                    1  ...   \n",
       "\n",
       "   RANGO_INGRESOS  RANGO_GASTOS  TIPO_VIVIENDA  PUNTAJE_ICFES  PCN  PLC  PMA  \\\n",
       "0               2             2              1            262   55   54   45   \n",
       "1               1             1              2            290   66   58   59   \n",
       "2               3             3              1            304   67   55   63   \n",
       "3               4             4              1            173   55   49   69   \n",
       "4               2             2              1            262   59   55   50   \n",
       "\n",
       "   PSC  PIN  GRADUADO_A_TIEMPO  \n",
       "0   58   50                  0  \n",
       "1   57   50                  0  \n",
       "2   55   64                  0  \n",
       "3    0    0                  0  \n",
       "4   46   51                  0  \n",
       "\n",
       "[5 rows x 21 columns]"
      ]
     },
     "execution_count": 174,
     "metadata": {},
     "output_type": "execute_result"
    }
   ],
   "source": [
    "test_df = pd.read_csv(dataset_path)\n",
    "test_df.head()"
   ]
  },
  {
   "cell_type": "code",
   "execution_count": 175,
   "id": "a235e16c-77a1-4922-bfef-94c6c11486ac",
   "metadata": {},
   "outputs": [
    {
     "data": {
      "text/plain": [
       "(348, 21)"
      ]
     },
     "execution_count": 175,
     "metadata": {},
     "output_type": "execute_result"
    }
   ],
   "source": [
    "test_df.shape"
   ]
  },
  {
   "cell_type": "markdown",
   "id": "38319829-64dd-46fc-9d92-b619dbd866c8",
   "metadata": {},
   "source": [
    "## Boostrap iteration"
   ]
  },
  {
   "cell_type": "code",
   "execution_count": 176,
   "id": "772b4168-e265-43b1-9266-61bc5c1bd741",
   "metadata": {},
   "outputs": [],
   "source": [
    "n_bootstrap = 10"
   ]
  },
  {
   "cell_type": "code",
   "execution_count": 177,
   "id": "5e7f76ff-8b2c-4802-9454-7ffa9a058fac",
   "metadata": {},
   "outputs": [],
   "source": [
    "# ----------------------------------------------------------------------------\n",
    "# Set random seed\n",
    "random_seed = 42\n",
    "tf.random.set_seed(random_seed)\n",
    "np.random.seed(random_seed)"
   ]
  },
  {
   "cell_type": "code",
   "execution_count": 178,
   "id": "ce10f521-dee2-45b6-ae4f-05695fc6567d",
   "metadata": {},
   "outputs": [
    {
     "name": "stderr",
     "output_type": "stream",
     "text": [
      "100%|██████████| 10/10 [00:07<00:00,  1.26it/s]\n"
     ]
    }
   ],
   "source": [
    "# ----------------------------------------------------------------------------\n",
    "for i_bootstrap in tqdm(range(n_bootstrap)):\n",
    "    bootstrap_model_dir = model_dir + '{:03d}'.format(i_bootstrap) + '/'\n",
    "    \n",
    "    output_dataset_dir = bootstrap_model_dir + 'outputs/'\n",
    "    \n",
    "    if not os.path.exists(output_dataset_dir):\n",
    "        os.mkdir(bootstrap_model_dir + 'outputs')\n",
    "    \n",
    "    # ----------------------------------------------------------------------------\n",
    "    x_dataset = test_df[COLUMNS_NAME].values\n",
    "\n",
    "    # ----------------------------------------------------------------------------\n",
    "    final_model_dir = bootstrap_model_dir + 'model/'\n",
    "    \n",
    "    encoder = keras.models.load_model(final_model_dir + 'encoder.h5', compile=False)\n",
    "    decoder = keras.models.load_model(final_model_dir + 'decoder.h5', compile=False)\n",
    "\n",
    "    #scaler = joblib.load(final_model_dir + 'scaler.joblib')\n",
    "\n",
    "    #enc_age = joblib.load(final_model_dir + 'age_encoder.joblib')\n",
    "    enc_gender = joblib.load(final_model_dir + 'gender_encoder.joblib')\n",
    "    \n",
    "    # ----------------------------------------------------------------------------\n",
    "    #x_normalized = scaler.transform(x_dataset)\n",
    "    x_normalized = x_dataset\n",
    "\n",
    "    normalized_df = pd.DataFrame(columns=['IDX_STUDENT'] + COLUMNS_NAME)\n",
    "    normalized_df['IDX_STUDENT'] = test_df['IDX_STUDENT']\n",
    "    normalized_df[COLUMNS_NAME] = x_normalized\n",
    "    normalized_df.to_csv(output_dataset_dir +  'normalized.csv', index=False)\n",
    "    \n",
    "    # ----------------------------------------------------------------------------\n",
    "    #age = test_df['RANGO_EDAD'].values[:, np.newaxis].astype('float32')\n",
    "    #one_hot_age = enc_age.transform(age)\n",
    "\n",
    "    gender = test_df['SEXO'].values[:, np.newaxis].astype('float32')\n",
    "    one_hot_gender = enc_gender.transform(gender)\n",
    "\n",
    "    #y_one_hot_genderdata = np.concatenate((one_hot_age, one_hot_gender), axis=1).astype('float32')\n",
    "    y_data = one_hot_gender.astype('float32')\n",
    "    \n",
    "    # ----------------------------------------------------------------------------\n",
    "    encoded = encoder(x_normalized, training=False)\n",
    "    reconstruction = decoder(tf.concat([encoded, y_data], axis=1), training=False)\n",
    "\n",
    "    reconstruction_df = pd.DataFrame(columns=['IDX_STUDENT'] + COLUMNS_NAME)\n",
    "    reconstruction_df['IDX_STUDENT'] = test_df['IDX_STUDENT']\n",
    "    reconstruction_df[COLUMNS_NAME] = reconstruction.numpy()\n",
    "    reconstruction_df.to_csv(output_dataset_dir + 'reconstruction.csv', index=False)\n",
    "\n",
    "    encoded_df = pd.DataFrame(columns=['IDX_STUDENT'] + list(range(encoded.shape[1])))\n",
    "    encoded_df['IDX_STUDENT'] = test_df['IDX_STUDENT']\n",
    "    encoded_df[list(range(encoded.shape[1]))] = encoded.numpy()\n",
    "    encoded_df.to_csv(output_dataset_dir + 'encoded.csv', index=False)\n",
    "    \n",
    "    # ----------------------------------------------------------------------------\n",
    "    reconstruction_error = np.mean((x_normalized - reconstruction) ** 2, axis=1)\n",
    "\n",
    "    reconstruction_error_df = pd.DataFrame(columns=['IDX_STUDENT', 'Reconstruction error'])\n",
    "    reconstruction_error_df['IDX_STUDENT'] = test_df['IDX_STUDENT']\n",
    "    reconstruction_error_df['Reconstruction error'] = reconstruction_error\n",
    "    reconstruction_error_df.to_csv(output_dataset_dir + 'reconstruction_error.csv', index=False)"
   ]
  },
  {
   "cell_type": "code",
   "execution_count": null,
   "id": "1786cd97-f6c7-4b91-96a2-ebfcfdbe7e6a",
   "metadata": {},
   "outputs": [],
   "source": []
  }
 ],
 "metadata": {
  "kernelspec": {
   "display_name": "Python 3 (ipykernel)",
   "language": "python",
   "name": "python3"
  },
  "language_info": {
   "codemirror_mode": {
    "name": "ipython",
    "version": 3
   },
   "file_extension": ".py",
   "mimetype": "text/x-python",
   "name": "python",
   "nbconvert_exporter": "python",
   "pygments_lexer": "ipython3",
   "version": "3.9.13"
  }
 },
 "nbformat": 4,
 "nbformat_minor": 5
}
